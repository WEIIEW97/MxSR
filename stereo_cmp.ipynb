{
 "cells": [
  {
   "cell_type": "code",
   "execution_count": 1,
   "metadata": {},
   "outputs": [
    {
     "name": "stderr",
     "output_type": "stream",
     "text": [
      "xFormers not available\n",
      "xFormers not available\n"
     ]
    }
   ],
   "source": [
    "import numpy as np\n",
    "import os\n",
    "import torch\n",
    "import torch.nn as nn\n",
    "import torch.nn.functional as F\n",
    "\n",
    "from pathlib import Path\n",
    "import cv2\n",
    "\n",
    "import matplotlib.pyplot as plt\n",
    "from mono.mono_head import InferDAM\n",
    "\n",
    "import torchvision.models as models"
   ]
  },
  {
   "cell_type": "code",
   "execution_count": 2,
   "metadata": {},
   "outputs": [],
   "source": [
    "gt_dir='/home/william/extdisk/data/realsense-D455_depth_image/sample/depth'\n",
    "raft_dir='/home/william/extdisk/data/realsense-D455_depth_image/sample/raft'\n",
    "gms_dir='/home/william/extdisk/data/realsense-D455_depth_image/sample/gmstereo'\n",
    "cres_dir='/home/william/extdisk/data/realsense-D455_depth_image/sample/crestero'\n",
    "cmp_dir='/home/william/extdisk/data/realsense-D455_depth_image/sample/research'\n",
    "left_dir='/home/william/extdisk/data/realsense-D455_depth_image/sample/infra1'\n",
    "right_dir='/home/william/extdisk/data/realsense-D455_depth_image/sample/infra2'\n",
    "mono_dir='/home/william/extdisk/data/realsense-D455_depth_image/sample/damv2'\n",
    "focal = 390.81134033203125\n",
    "baseline = 94.994\n",
    "cx = 320.83\n",
    "cy = 245.31\n",
    "os.makedirs(cmp_dir, exist_ok=True)\n",
    "os.makedirs(mono_dir, exist_ok=True)"
   ]
  },
  {
   "cell_type": "code",
   "execution_count": 3,
   "metadata": {},
   "outputs": [],
   "source": [
    "f_gts = sorted(Path('/home/william/extdisk/data/realsense-D455_depth_image/sample/depth').glob('*.png'))\n",
    "f_rafts = sorted(Path(\"/home/william/extdisk/data/realsense-D455_depth_image/sample/raft\").glob('*.npy'))\n",
    "f_gms = sorted(Path(\"/home/william/extdisk/data/realsense-D455_depth_image/sample/gmstereo\").glob('*_disp.pfm'))\n",
    "f_cres = sorted(Path(\"/home/william/extdisk/data/realsense-D455_depth_image/sample/crestereo\").glob('*.npy'))\n",
    "f_left = sorted(Path(left_dir).glob('*.png'))\n",
    "f_right = sorted(Path(right_dir).glob('*.png'))\n",
    "f_mono = sorted(Path(mono_dir).glob('*.npy'))\n"
   ]
  },
  {
   "cell_type": "code",
   "execution_count": 4,
   "metadata": {},
   "outputs": [],
   "source": [
    "import re\n",
    "\n",
    "def read_pfm(file):\n",
    "    file = open(file, 'rb')\n",
    "\n",
    "    color = None\n",
    "    width = None\n",
    "    height = None\n",
    "    scale = None\n",
    "    endian = None\n",
    "\n",
    "    header = file.readline().rstrip()\n",
    "    if header.decode(\"ascii\") == 'PF':\n",
    "        color = True\n",
    "    elif header.decode(\"ascii\") == 'Pf':\n",
    "        color = False\n",
    "    else:\n",
    "        raise Exception('Not a PFM file.')\n",
    "\n",
    "    dim_match = re.match(r'^(\\d+)\\s(\\d+)\\s$', file.readline().decode(\"ascii\"))\n",
    "    if dim_match:\n",
    "        width, height = list(map(int, dim_match.groups()))\n",
    "    else:\n",
    "        raise Exception('Malformed PFM header.')\n",
    "\n",
    "    scale = float(file.readline().decode(\"ascii\").rstrip())\n",
    "    if scale < 0:  # little-endian\n",
    "        endian = '<'\n",
    "        scale = -scale\n",
    "    else:\n",
    "        endian = '>'  # big-endian\n",
    "\n",
    "    data = np.fromfile(file, endian + 'f')\n",
    "    shape = (height, width, 3) if color else (height, width)\n",
    "\n",
    "    data = np.reshape(data, shape)\n",
    "    data = np.flipud(data)\n",
    "    return data*scale\n"
   ]
  },
  {
   "cell_type": "code",
   "execution_count": 5,
   "metadata": {},
   "outputs": [],
   "source": [
    "mono = InferDAM()\n",
    "mono.initialize(model_path='/home/william/extdisk/checkpoints/depth-anything/depth_anything_v2_vits.pth', encoder='vits')"
   ]
  },
  {
   "cell_type": "code",
   "execution_count": 6,
   "metadata": {},
   "outputs": [],
   "source": [
    "def acc_cmp():\n",
    "    for gt, raft, gms, cres in zip(f_gts, f_rafts, f_gms, f_cres):\n",
    "        print(f\"currently processing on gt {gt}\")\n",
    "        print(f\"currently processing on raft {raft}\")\n",
    "        print(f\"currently processing on gms {gms}\")\n",
    "        print(f\"currently processing on cres {cres}\")\n",
    "\n",
    "        f_name = gt.name\n",
    "        \n",
    "        left_full_name = left_dir+'/'+f_name\n",
    "        left = cv2.imread(left_full_name, cv2.IMREAD_ANYCOLOR)\n",
    "        disp = mono.predict(left)\n",
    "        f_ext = f_name.replace('.png', '.npy')\n",
    "        np.save(mono_dir+'/'+f_ext, disp)\n",
    "        \n",
    "\n",
    "        # gt_ = cv2.imread(gt, cv2.IMREAD_ANYDEPTH).astype(np.float32)\n",
    "        # d_gt = np.divide(focal*baseline, gt_, where=gt_!=0)\n",
    "        # d_gt = np.where(gt_ == 0, 0, d_gt)\n",
    "        # mask_gt = np.where(gt_ == 0)\n",
    "        # raft_ = -np.load(raft)\n",
    "        # gms_ = read_pfm(gms)\n",
    "        # cres_ = np.load(cres)\n",
    "\n",
    "        # diff_gt_raft = np.zeros_like(d_gt)\n",
    "        # diff_gt_gms = np.zeros_like(d_gt)\n",
    "        # diff_gt_cres = np.zeros_like(d_gt)\n",
    "\n",
    "        # diff_gt_raft[mask_gt] = d_gt[mask_gt] - raft_[mask_gt]\n",
    "        # diff_gt_gms[mask_gt] = d_gt[mask_gt] - gms_[mask_gt]\n",
    "        # diff_gt_cres[mask_gt] = d_gt[mask_gt] - cres_[mask_gt]\n",
    "\n",
    "        # print(f\"gt disp max value is {d_gt.max()}, min value is {d_gt.min()}\")\n",
    "        # print(f\"raft disp max value is {raft_.max()}, min value is {raft_.min()}\")\n",
    "        # print(f\"gt-raft diff max valueis {diff_gt_raft.max()}, min value is {diff_gt_raft.min()}\")\n",
    "        # print(f\"gms disp max value is {gms_.max()}, min value is {gms_.min()}\")\n",
    "        # print(f\"gt-gms diff max valueis {diff_gt_gms.max()}, min value is {diff_gt_gms.min()}\")\n",
    "        # print(f\"cres disp max value is {cres_.max()}, min value is {cres_.min()}\")\n",
    "        # print(f\"gt-cres diff max valueis {diff_gt_cres.max()}, min value is {diff_gt_cres.min()}\")\n",
    "\n",
    "        # print(\"=\"*77)\n",
    "        \n",
    "        # fig, axs = plt.subplots(3, 3, figsize=(10, 8))  # 2 rows, 2 columns\n",
    "\n",
    "        # # Plot each image on a subplot\n",
    "        # axs[0, 0].imshow(d_gt, cmap='magma')\n",
    "        # axs[0, 0].set_title('ground truth')\n",
    "        # axs[0, 0].axis('off')  # Turn off axis\n",
    "\n",
    "        # axs[0, 1].imshow(raft_, cmap='magma')\n",
    "        # axs[0, 1].set_title('RAFT')\n",
    "        # axs[0, 1].axis('off')\n",
    "\n",
    "        # axs[0, 2].imshow(diff_gt_raft, cmap='magma')\n",
    "        # axs[0, 2].set_title('diff')\n",
    "        # axs[0, 2].axis('off')\n",
    "        # plt.colorbar(axs[0, 2].imshow(diff_gt_raft, cmap='magma'), ax=axs[0, 2])\n",
    "\n",
    "        # axs[1, 0].imshow(d_gt, cmap='magma')\n",
    "        # axs[1, 0].set_title('ground truth')\n",
    "        # axs[1, 0].axis('off')  # Turn off axis\n",
    "\n",
    "        # axs[1, 1].imshow(gms_, cmap='magma')\n",
    "        # axs[1, 1].set_title('GMS')\n",
    "        # axs[1, 1].axis('off')\n",
    "\n",
    "        # axs[1, 2].imshow(diff_gt_gms, cmap='magma')\n",
    "        # axs[1, 2].set_title('diff')\n",
    "        # axs[1 ,2].axis('off')\n",
    "        # plt.colorbar(axs[1, 2].imshow(diff_gt_gms, cmap='magma'), ax=axs[1, 2])\n",
    "\n",
    "\n",
    "        # axs[2, 0].imshow(d_gt, cmap='magma')\n",
    "        # axs[2, 0].set_title('ground truth')\n",
    "        # axs[2, 0].axis('off')  # Turn off axis\n",
    "\n",
    "        # axs[2, 1].imshow(cres_, cmap='magma')\n",
    "        # axs[2, 1].set_title('CRES')\n",
    "        # axs[2, 1].axis('off')\n",
    "\n",
    "        # axs[2, 2].imshow(diff_gt_cres, cmap='magma')\n",
    "        # axs[2, 2].set_title('diff')\n",
    "        # axs[2, 2].axis('off')\n",
    "        # plt.colorbar( axs[2, 2].imshow(diff_gt_cres, cmap='magma'), ax=axs[2, 2])\n",
    "\n",
    "\n",
    "        # plt.tight_layout()\n",
    "        # plt.savefig(os.path.join(cmp_dir, gt.name))"
   ]
  },
  {
   "cell_type": "code",
   "execution_count": 7,
   "metadata": {},
   "outputs": [],
   "source": [
    "from refine.simple_refine_net import SimpleRefineNet\n",
    "from refine.pose_net import PoseNet"
   ]
  },
  {
   "cell_type": "code",
   "execution_count": 8,
   "metadata": {},
   "outputs": [],
   "source": [
    "class PoseNet1(nn.Module):\n",
    "    \"\"\"\n",
    "    PoseNet architecture for estimating relative pose between two images.\n",
    "    \n",
    "    Attributes:\n",
    "        encoder (nn.Module): Pretrained CNN encoder (e.g., ResNet18).\n",
    "        fc1 (nn.Linear): First fully connected layer.\n",
    "        fc2 (nn.Linear): Second fully connected layer.\n",
    "        translation (nn.Linear): Fully connected layer for translation.\n",
    "        rotation (nn.Linear): Fully connected layer for rotation.\n",
    "    \"\"\"\n",
    "    def __init__(self, encoder='resnet18', pretrained=True):\n",
    "        super(PoseNet1, self).__init__()\n",
    "        \n",
    "        # Load a pretrained ResNet18 model and remove the fully connected layers\n",
    "        if encoder == 'resnet18':\n",
    "            self.encoder = models.resnet18(pretrained=pretrained)\n",
    "            modules = list(self.encoder.children())[:-2]  # Remove avgpool and fc\n",
    "            self.encoder = nn.Sequential(*modules)\n",
    "            feature_dim=512\n",
    "        elif encoder == 'mobilenetv3-small':\n",
    "            self.encoder = models.mobilenet_v3_small(pretrained=pretrained).features\n",
    "            feature_dim = 576\n",
    "        elif encoder == 'mobilenetv3-large':\n",
    "            self.encoder = models.mobilenet_v3_large(pretrained=pretrained).features\n",
    "            feature_dim = 960\n",
    "        else:\n",
    "            raise NotImplementedError(f\"{encoder} has not been supported!, please use one of 'resnet18', 'mobilenetv3-small', 'mobilenetv3-small' instead. \")\n",
    "        # Freeze encoder weights if needed\n",
    "        # for param in self.encoder.parameters():\n",
    "        #     param.requires_grad = False\n",
    "        \n",
    "        # Define the pose regression head\n",
    "        # Assuming encoder outputs features of size 512 x H/32 x W/32 for ResNet18\n",
    "        self.avgpool = nn.AdaptiveAvgPool2d((1, 1))\n",
    "        self.fc1 = nn.Linear(feature_dim * 2, 256)  # Concatenate features from two images\n",
    "        self.fc2 = nn.Linear(256, 128)\n",
    "        \n",
    "        # Output layers for translation and rotation\n",
    "        self.translation = nn.Linear(128, 3)  # tx, ty, tz\n",
    "        self.rotation = nn.Linear(128, 3)     # rx, ry, rz (Euler angles)\n",
    "        \n",
    "        # Initialize weights for regression layers\n",
    "        self._init_weights()\n",
    "        \n",
    "    def _init_weights(self):\n",
    "        \"\"\"\n",
    "        Initializes the weights of the fully connected layers.\n",
    "        \"\"\"\n",
    "        nn.init.kaiming_normal_(self.fc1.weight, nonlinearity='relu')\n",
    "        nn.init.constant_(self.fc1.bias, 0)\n",
    "        \n",
    "        nn.init.kaiming_normal_(self.fc2.weight, nonlinearity='relu')\n",
    "        nn.init.constant_(self.fc2.bias, 0)\n",
    "        \n",
    "        nn.init.xavier_normal_(self.translation.weight)\n",
    "        nn.init.constant_(self.translation.bias, 0)\n",
    "        \n",
    "        nn.init.xavier_normal_(self.rotation.weight)\n",
    "        nn.init.constant_(self.rotation.bias, 0)\n",
    "    \n",
    "    def forward(self, img1, img2):\n",
    "        \"\"\"\n",
    "        Forward pass to estimate the relative pose between two images.\n",
    "        \n",
    "        Args:\n",
    "            img1 (torch.Tensor): Batch of first images [B, 3, H, W].\n",
    "            img2 (torch.Tensor): Batch of second images [B, 3, H, W].\n",
    "        \n",
    "        Returns:\n",
    "            translation (torch.Tensor): Estimated translations [B, 3].\n",
    "            rotation (torch.Tensor): Estimated rotations [B, 3].\n",
    "        \"\"\"\n",
    "        # Encode first image\n",
    "        feat1 = self.encoder(img1)  # [B, C, H', W']\n",
    "        feat1 = self.avgpool(feat1)  # [B, C, 1, 1]\n",
    "        feat1 = feat1.view(feat1.size(0), -1)  # [B, C]\n",
    "        # Encode second image\n",
    "        feat2 = self.encoder(img2)  # [B, C, H', W']\n",
    "        feat2 = self.avgpool(feat2)  # [B, C, 1, 1]\n",
    "        feat2 = feat2.view(feat2.size(0), -1)  # [B, C]\n",
    "        \n",
    "        # Concatenate features\n",
    "        combined = torch.cat((feat1, feat2), dim=1)  # [B, C*2]\n",
    "        # Pose regression\n",
    "        x = F.relu(self.fc1(combined))  # [B, C*2]\n",
    "        x = F.relu(self.fc2(x))         # [B, C*2]\n",
    "        \n",
    "        translation = self.translation(x)  # [B, 3]\n",
    "        rotation = self.rotation(x)        # [B, 3]\n",
    "        \n",
    "        return translation, rotation"
   ]
  },
  {
   "cell_type": "code",
   "execution_count": 9,
   "metadata": {},
   "outputs": [
    {
     "name": "stderr",
     "output_type": "stream",
     "text": [
      "/home/william/anaconda3/envs/torch2.3.1_cu12.1/lib/python3.11/site-packages/torchvision/models/_utils.py:208: UserWarning: The parameter 'pretrained' is deprecated since 0.13 and may be removed in the future, please use 'weights' instead.\n",
      "  warnings.warn(\n",
      "/home/william/anaconda3/envs/torch2.3.1_cu12.1/lib/python3.11/site-packages/torchvision/models/_utils.py:223: UserWarning: Arguments other than a weight enum or `None` for 'weights' are deprecated since 0.13 and may be removed in the future. The current behavior is equivalent to passing `weights=ResNet18_Weights.IMAGENET1K_V1`. You can also use `weights=ResNet18_Weights.DEFAULT` to get the most up-to-date weights.\n",
      "  warnings.warn(msg)\n"
     ]
    }
   ],
   "source": [
    "ref_net = SimpleRefineNet().to('cuda')\n",
    "pose_net = PoseNet1().to('cuda')"
   ]
  },
  {
   "cell_type": "code",
   "execution_count": 10,
   "metadata": {},
   "outputs": [],
   "source": [
    "I_L = cv2.imread(f_left[0], cv2.IMREAD_ANYCOLOR)\n",
    "I_L = cv2.cvtColor(I_L, cv2.COLOR_BGR2RGB).astype(np.float32)\n",
    "I_R = cv2.imread(f_right[0], cv2.IMREAD_ANYCOLOR)\n",
    "I_R = cv2.cvtColor(I_R, cv2.COLOR_BGR2RGB).astype(np.float32)\n",
    "\n",
    "d_mono = np.load(f_mono[0], allow_pickle=False)\n",
    "d_stereo = np.load(f_cres[0])"
   ]
  },
  {
   "cell_type": "code",
   "execution_count": 11,
   "metadata": {},
   "outputs": [
    {
     "name": "stdout",
     "output_type": "stream",
     "text": [
      "(480, 640) (480, 640)\n"
     ]
    }
   ],
   "source": [
    "print(d_mono.shape, d_stereo.shape)"
   ]
  },
  {
   "cell_type": "code",
   "execution_count": 12,
   "metadata": {},
   "outputs": [],
   "source": [
    "mono = torch.from_numpy(d_mono).unsqueeze(0).unsqueeze(1)   # [B, C, H, W]\n",
    "stereo = torch.from_numpy(d_stereo).unsqueeze(0).unsqueeze(1)"
   ]
  },
  {
   "cell_type": "code",
   "execution_count": 13,
   "metadata": {},
   "outputs": [],
   "source": [
    "i_l = torch.from_numpy(I_L)\n",
    "i_r = torch.from_numpy(I_R)"
   ]
  },
  {
   "cell_type": "code",
   "execution_count": 14,
   "metadata": {},
   "outputs": [
    {
     "data": {
      "text/plain": [
       "torch.Size([480, 640, 3])"
      ]
     },
     "execution_count": 14,
     "metadata": {},
     "output_type": "execute_result"
    }
   ],
   "source": [
    "i_l.shape"
   ]
  },
  {
   "cell_type": "code",
   "execution_count": 15,
   "metadata": {},
   "outputs": [],
   "source": [
    "i_l_c = i_l.unsqueeze(0).permute((0,3,1,2)).to('cuda')\n",
    "i_r_c = i_r.unsqueeze(0).permute((0,3,1,2)).to('cuda')"
   ]
  },
  {
   "cell_type": "code",
   "execution_count": 16,
   "metadata": {},
   "outputs": [
    {
     "data": {
      "text/plain": [
       "torch.Size([1, 3, 480, 640])"
      ]
     },
     "execution_count": 16,
     "metadata": {},
     "output_type": "execute_result"
    }
   ],
   "source": [
    "i_l_c.shape"
   ]
  },
  {
   "cell_type": "code",
   "execution_count": 17,
   "metadata": {},
   "outputs": [],
   "source": [
    "mono = mono.to('cuda')\n",
    "stereo = stereo.to('cuda')"
   ]
  },
  {
   "cell_type": "code",
   "execution_count": 18,
   "metadata": {},
   "outputs": [],
   "source": [
    "d_refined = ref_net(mono, stereo)"
   ]
  },
  {
   "cell_type": "code",
   "execution_count": 19,
   "metadata": {},
   "outputs": [],
   "source": [
    "def euler_angles_to_rotation_matrix(euler_angles):\n",
    "    \"\"\"\n",
    "    Converts Euler angles to rotation matrices.\n",
    "\n",
    "    Args:\n",
    "        euler_angles (torch.Tensor): Euler angles [B, 3], where each row is [rx, ry, rz].\n",
    "\n",
    "    Returns:\n",
    "        rotation_matrices (torch.Tensor): Rotation matrices [B, 3, 3].\n",
    "    \"\"\"\n",
    "    rx, ry, rz = euler_angles[:, 0], euler_angles[:, 1], euler_angles[:, 2]\n",
    "\n",
    "    cos_rx = torch.cos(rx)\n",
    "    sin_rx = torch.sin(rx)\n",
    "    cos_ry = torch.cos(ry)\n",
    "    sin_ry = torch.sin(ry)\n",
    "    cos_rz = torch.cos(rz)\n",
    "    sin_rz = torch.sin(rz)\n",
    "\n",
    "    # Rotation matrix around x-axis\n",
    "    Rx = torch.stack([\n",
    "        torch.ones_like(rx), torch.zeros_like(rx), torch.zeros_like(rx),\n",
    "        torch.zeros_like(rx), cos_rx, -sin_rx,\n",
    "        torch.zeros_like(rx), sin_rx, cos_rx\n",
    "    ], dim=1).view(-1, 3, 3)\n",
    "\n",
    "    # Rotation matrix around y-axis\n",
    "    Ry = torch.stack([\n",
    "        cos_ry, torch.zeros_like(ry), sin_ry,\n",
    "        torch.zeros_like(ry), torch.ones_like(ry), torch.zeros_like(ry),\n",
    "        -sin_ry, torch.zeros_like(ry), cos_ry\n",
    "    ], dim=1).view(-1, 3, 3)\n",
    "\n",
    "    # Rotation matrix around z-axis\n",
    "    Rz = torch.stack([\n",
    "        cos_rz, -sin_rz, torch.zeros_like(rz),\n",
    "        sin_rz, cos_rz, torch.zeros_like(rz),\n",
    "        torch.zeros_like(rz), torch.zeros_like(rz), torch.ones_like(rz)\n",
    "    ], dim=1).view(-1, 3, 3)\n",
    "\n",
    "    # Combined rotation matrix: R = Rz * Ry * Rx\n",
    "    rotation_matrices = torch.bmm(Rz, torch.bmm(Ry, Rx))\n",
    "\n",
    "    return rotation_matrices"
   ]
  },
  {
   "cell_type": "code",
   "execution_count": 20,
   "metadata": {},
   "outputs": [],
   "source": [
    "translation, rotation = pose_net(i_l_c, i_r_c)"
   ]
  },
  {
   "cell_type": "code",
   "execution_count": 21,
   "metadata": {},
   "outputs": [],
   "source": [
    "R = euler_angles_to_rotation_matrix(rotation)"
   ]
  },
  {
   "cell_type": "code",
   "execution_count": 22,
   "metadata": {},
   "outputs": [],
   "source": [
    "t = translation.unsqueeze(2)"
   ]
  },
  {
   "cell_type": "code",
   "execution_count": 23,
   "metadata": {},
   "outputs": [],
   "source": [
    "pose = torch.cat((R, t), dim=2)"
   ]
  },
  {
   "cell_type": "code",
   "execution_count": 24,
   "metadata": {},
   "outputs": [
    {
     "name": "stdout",
     "output_type": "stream",
     "text": [
      "tensor([[[ 0.3933,  0.8649,  0.3119, -0.3656],\n",
      "         [ 0.2845, -0.4370,  0.8533,  0.1409],\n",
      "         [ 0.8743, -0.2469, -0.4180, -1.4706]]], device='cuda:0',\n",
      "       grad_fn=<CatBackward0>)\n"
     ]
    }
   ],
   "source": [
    "print(pose)"
   ]
  },
  {
   "cell_type": "code",
   "execution_count": 25,
   "metadata": {},
   "outputs": [],
   "source": [
    "def warp_image(img, depth, pose, intrinsics):\n",
    "    # Assuming intrinsics: [B, 3, 3]\n",
    "    # pose: [B, 4, 4]\n",
    "    # depth: [B, 1, H, W]\n",
    "    B, _, H, W = depth.size()\n",
    "    device = depth.device\n",
    "\n",
    "    # Generate pixel grid\n",
    "    y, x = torch.meshgrid(torch.arange(0, H), torch.arange(0, W))\n",
    "    y = y.to(device).float()\n",
    "    x = x.to(device).float()\n",
    "    ones = torch.ones_like(x)\n",
    "    pix_coords = torch.stack([x, y, ones], dim=0).view(3, -1)  # [3, H*W]\n",
    "    pix_coords = pix_coords.unsqueeze(0).repeat(B, 1, 1)  # [B, 3, H*W]\n",
    "\n",
    "    # Convert to camera coordinates\n",
    "    inv_intrinsics = torch.inverse(intrinsics)\n",
    "    cam_coords = inv_intrinsics.bmm(pix_coords) * depth.view(B, 1, -1)  # [B, 3, H*W]\n",
    "\n",
    "    # Apply pose\n",
    "    cam_coords = torch.cat([cam_coords, torch.ones((B, 1, H*W), device=device)], dim=1)  # [B, 4, H*W]\n",
    "    world_coords = pose.bmm(cam_coords)  # [B, 4, H*W]\n",
    "\n",
    "    # Project back to image plane\n",
    "    proj_coords = intrinsics.bmm(world_coords[:, :3, :])  # [B, 3, H*W]\n",
    "    proj_coords = proj_coords[:, :2, :] / (proj_coords[:, 2:3, :] + 1e-6)\n",
    "\n",
    "    # Normalize coordinates to [-1, 1] for grid_sample\n",
    "    proj_x = 2.0 * (proj_coords[:, 0, :] / (W - 1)) - 1.0\n",
    "    proj_y = 2.0 * (proj_coords[:, 1, :] / (H - 1)) - 1.0\n",
    "    grid = torch.stack((proj_x, proj_y), dim=2).view(B, H, W, 2)\n",
    "\n",
    "    # Warp image\n",
    "    warped_img = F.grid_sample(img, grid, padding_mode='zeros', align_corners=True)\n",
    "    return warped_img\n",
    "\n",
    "def parse_intrinsics(fx, fy, cx, cy):\n",
    "    K=np.array([[fx, 0, cx], [0, fy, cy], [0, 0, 1]]).astype(np.float32)\n",
    "    return torch.from_numpy(K).unsqueeze(0)"
   ]
  },
  {
   "cell_type": "code",
   "execution_count": 26,
   "metadata": {},
   "outputs": [
    {
     "name": "stdout",
     "output_type": "stream",
     "text": [
      "torch.Size([1, 3, 3])\n"
     ]
    }
   ],
   "source": [
    "K = parse_intrinsics(focal, focal, cx, cy).to('cuda')\n",
    "print(K.shape)"
   ]
  },
  {
   "cell_type": "code",
   "execution_count": 27,
   "metadata": {},
   "outputs": [
    {
     "name": "stderr",
     "output_type": "stream",
     "text": [
      "/home/william/anaconda3/envs/torch2.3.1_cu12.1/lib/python3.11/site-packages/torch/functional.py:512: UserWarning: torch.meshgrid: in an upcoming release, it will be required to pass the indexing argument. (Triggered internally at /opt/conda/conda-bld/pytorch_1716905969073/work/aten/src/ATen/native/TensorShape.cpp:3587.)\n",
      "  return _VF.meshgrid(tensors, **kwargs)  # type: ignore[attr-defined]\n"
     ]
    }
   ],
   "source": [
    "I_R_reproj = warp_image(i_l_c, d_refined, pose, K)"
   ]
  },
  {
   "cell_type": "code",
   "execution_count": 28,
   "metadata": {},
   "outputs": [
    {
     "data": {
      "text/plain": [
       "tensor([[[[ 40.0000,  45.6361,  66.0003,  ...,   0.0000,   0.0000,  40.0853],\n",
       "          [122.6579,   0.0000,   0.0000,  ...,  40.0479,   0.0000,  60.2274],\n",
       "          [  0.0000,  59.4644,   0.0000,  ...,   0.0000,   0.0000,  44.1296],\n",
       "          ...,\n",
       "          [ 73.0000,  79.8888,   0.0000,  ...,   0.0000,   0.0000,  74.2948],\n",
       "          [  0.0000,  44.0000,   0.0000,  ...,   0.0000,   0.0000,   0.0000],\n",
       "          [  0.0000,   0.0000,   0.0000,  ...,   0.0000,   0.0000,   0.0000]],\n",
       "\n",
       "         [[ 40.0000,  45.6361,  66.0003,  ...,   0.0000,   0.0000,  40.0853],\n",
       "          [122.6579,   0.0000,   0.0000,  ...,  40.0479,   0.0000,  60.2274],\n",
       "          [  0.0000,  59.4644,   0.0000,  ...,   0.0000,   0.0000,  44.1296],\n",
       "          ...,\n",
       "          [ 73.0000,  79.8888,   0.0000,  ...,   0.0000,   0.0000,  74.2948],\n",
       "          [  0.0000,  44.0000,   0.0000,  ...,   0.0000,   0.0000,   0.0000],\n",
       "          [  0.0000,   0.0000,   0.0000,  ...,   0.0000,   0.0000,   0.0000]],\n",
       "\n",
       "         [[ 40.0000,  45.6361,  66.0003,  ...,   0.0000,   0.0000,  40.0853],\n",
       "          [122.6579,   0.0000,   0.0000,  ...,  40.0479,   0.0000,  60.2274],\n",
       "          [  0.0000,  59.4644,   0.0000,  ...,   0.0000,   0.0000,  44.1296],\n",
       "          ...,\n",
       "          [ 73.0000,  79.8888,   0.0000,  ...,   0.0000,   0.0000,  74.2948],\n",
       "          [  0.0000,  44.0000,   0.0000,  ...,   0.0000,   0.0000,   0.0000],\n",
       "          [  0.0000,   0.0000,   0.0000,  ...,   0.0000,   0.0000,   0.0000]]]],\n",
       "       device='cuda:0', grad_fn=<CudnnGridSamplerBackward0>)"
      ]
     },
     "execution_count": 28,
     "metadata": {},
     "output_type": "execute_result"
    }
   ],
   "source": [
    "I_R_reproj"
   ]
  },
  {
   "cell_type": "code",
   "execution_count": 29,
   "metadata": {},
   "outputs": [
    {
     "data": {
      "text/plain": [
       "tensor([[[[29., 28., 28.,  ..., 33., 32., 33.],\n",
       "          [29., 28., 28.,  ..., 33., 32., 33.],\n",
       "          [29., 29., 29.,  ..., 33., 33., 33.],\n",
       "          ...,\n",
       "          [48., 48., 48.,  ..., 31., 31., 31.],\n",
       "          [47., 48., 46.,  ..., 31., 30., 30.],\n",
       "          [47., 46., 42.,  ..., 31., 31., 31.]],\n",
       "\n",
       "         [[29., 28., 28.,  ..., 33., 32., 33.],\n",
       "          [29., 28., 28.,  ..., 33., 32., 33.],\n",
       "          [29., 29., 29.,  ..., 33., 33., 33.],\n",
       "          ...,\n",
       "          [48., 48., 48.,  ..., 31., 31., 31.],\n",
       "          [47., 48., 46.,  ..., 31., 30., 30.],\n",
       "          [47., 46., 42.,  ..., 31., 31., 31.]],\n",
       "\n",
       "         [[29., 28., 28.,  ..., 33., 32., 33.],\n",
       "          [29., 28., 28.,  ..., 33., 32., 33.],\n",
       "          [29., 29., 29.,  ..., 33., 33., 33.],\n",
       "          ...,\n",
       "          [48., 48., 48.,  ..., 31., 31., 31.],\n",
       "          [47., 48., 46.,  ..., 31., 30., 30.],\n",
       "          [47., 46., 42.,  ..., 31., 31., 31.]]]], device='cuda:0')"
      ]
     },
     "execution_count": 29,
     "metadata": {},
     "output_type": "execute_result"
    }
   ],
   "source": [
    "i_r_c"
   ]
  },
  {
   "cell_type": "code",
   "execution_count": 30,
   "metadata": {},
   "outputs": [],
   "source": [
    "from refine.ssim import ssim\n",
    "\n",
    "def compute_ssim_loss(img1, img2):\n",
    "    return ssim(img1, img2)\n",
    "\n",
    "\n",
    "def compute_smoothness_loss(d_refined, I_L):\n",
    "    grad_x = torch.abs(d_refined[:, :, :, :-1] - d_refined[:, :, :, 1:])\n",
    "    grad_y = torch.abs(d_refined[:, :, :-1, :] - d_refined[:, :, 1:, :])\n",
    "\n",
    "    img_grad_x = torch.mean(torch.abs(I_L[:, :, :, :-1] - I_L[:, :, :, 1:]), 1, keepdim=True)\n",
    "    img_grad_y = torch.mean(torch.abs(I_L[:, :, :-1, :] - I_L[:, :, 1:, :]), 1, keepdim=True)\n",
    "\n",
    "    grad_x_weighted = grad_x * torch.exp(-img_grad_x)\n",
    "    grad_y_weighted = grad_y * torch.exp(-img_grad_y)\n",
    "    return torch.mean(grad_x_weighted) + torch.mean(grad_y_weighted)"
   ]
  },
  {
   "cell_type": "code",
   "execution_count": 31,
   "metadata": {},
   "outputs": [],
   "source": [
    "import torch.optim as optim\n",
    "\n",
    "\n",
    "lambda_photo = 0.5\n",
    "lambda_smooth = 0.5\n",
    "lambda_consistency = 1\n",
    "\n",
    "optimizer = optim.Adam(list(ref_net.parameters()) + list(pose_net.parameters()), lr=1e-4, weight_decay=1e-5)\n",
    "for param in ref_net.parameters():\n",
    "    param.requires_grad = True\n",
    "\n",
    "for param in pose_net.parameters():\n",
    "    param.requires_grad = True"
   ]
  },
  {
   "cell_type": "code",
   "execution_count": 32,
   "metadata": {},
   "outputs": [],
   "source": [
    "def train(n_epoches):\n",
    "    ref_net.train()\n",
    "    pose_net.train()\n",
    "    for epoch in range(n_epoches):\n",
    "        d_refined = ref_net(mono, stereo)\n",
    "        translation, rotation = pose_net(i_l_c, i_r_c)\n",
    "        R = euler_angles_to_rotation_matrix(rotation)\n",
    "        t = translation.unsqueeze(2)\n",
    "        pose = torch.cat((R, t), dim=2)\n",
    "        I_R_reproj = warp_image(i_l_c, d_refined, pose, K)\n",
    "        loss_photo = compute_ssim_loss(i_r_c, I_R_reproj)\n",
    "        loss_smooth = compute_smoothness_loss(d_refined, i_l_c)\n",
    "        loss_total = lambda_photo*loss_photo + lambda_smooth*loss_smooth\n",
    "\n",
    "        optimizer.zero_grad()\n",
    "        loss_total.backward()\n",
    "        optimizer.step()\n",
    "\n",
    "        # Logging\n",
    "        print(f\"Epoch [{epoch+1}/{n_epoches}], Photo Loss: {loss_photo.item():.4f}, Smooth Loss: {loss_smooth.item():.4f}, Total Loss: {loss_total.item():.4f}\")"
   ]
  },
  {
   "cell_type": "code",
   "execution_count": 33,
   "metadata": {},
   "outputs": [
    {
     "name": "stdout",
     "output_type": "stream",
     "text": [
      "Epoch [1/100], Photo Loss: 0.3725, Smooth Loss: 0.0503, Total Loss: 0.2114\n",
      "Epoch [2/100], Photo Loss: 0.0831, Smooth Loss: 0.0474, Total Loss: 0.0653\n",
      "Epoch [3/100], Photo Loss: 0.0027, Smooth Loss: 0.0402, Total Loss: 0.0215\n",
      "Epoch [4/100], Photo Loss: 0.0027, Smooth Loss: 0.0375, Total Loss: 0.0201\n",
      "Epoch [5/100], Photo Loss: 0.0027, Smooth Loss: 0.0333, Total Loss: 0.0180\n",
      "Epoch [6/100], Photo Loss: 0.0027, Smooth Loss: 0.0293, Total Loss: 0.0160\n",
      "Epoch [7/100], Photo Loss: 0.0027, Smooth Loss: 0.0279, Total Loss: 0.0153\n",
      "Epoch [8/100], Photo Loss: 0.0027, Smooth Loss: 0.0278, Total Loss: 0.0152\n",
      "Epoch [9/100], Photo Loss: 0.0027, Smooth Loss: 0.0266, Total Loss: 0.0147\n",
      "Epoch [10/100], Photo Loss: 0.0027, Smooth Loss: 0.0252, Total Loss: 0.0140\n",
      "Epoch [11/100], Photo Loss: 0.0027, Smooth Loss: 0.0228, Total Loss: 0.0128\n",
      "Epoch [12/100], Photo Loss: 0.0027, Smooth Loss: 0.0213, Total Loss: 0.0120\n",
      "Epoch [13/100], Photo Loss: 0.0027, Smooth Loss: 0.0205, Total Loss: 0.0116\n",
      "Epoch [14/100], Photo Loss: 0.0027, Smooth Loss: 0.0202, Total Loss: 0.0114\n",
      "Epoch [15/100], Photo Loss: 0.0027, Smooth Loss: 0.0201, Total Loss: 0.0114\n",
      "Epoch [16/100], Photo Loss: 0.0027, Smooth Loss: 0.0193, Total Loss: 0.0110\n",
      "Epoch [17/100], Photo Loss: 0.0027, Smooth Loss: 0.0179, Total Loss: 0.0103\n",
      "Epoch [18/100], Photo Loss: 0.0027, Smooth Loss: 0.0171, Total Loss: 0.0099\n",
      "Epoch [19/100], Photo Loss: 0.0027, Smooth Loss: 0.0164, Total Loss: 0.0096\n",
      "Epoch [20/100], Photo Loss: 0.0027, Smooth Loss: 0.0159, Total Loss: 0.0093\n",
      "Epoch [21/100], Photo Loss: 0.0027, Smooth Loss: 0.0158, Total Loss: 0.0093\n",
      "Epoch [22/100], Photo Loss: 0.0027, Smooth Loss: 0.0153, Total Loss: 0.0090\n",
      "Epoch [23/100], Photo Loss: 0.0027, Smooth Loss: 0.0147, Total Loss: 0.0087\n",
      "Epoch [24/100], Photo Loss: 0.0027, Smooth Loss: 0.0144, Total Loss: 0.0086\n",
      "Epoch [25/100], Photo Loss: 0.0027, Smooth Loss: 0.0137, Total Loss: 0.0082\n",
      "Epoch [26/100], Photo Loss: 0.0027, Smooth Loss: 0.0135, Total Loss: 0.0081\n",
      "Epoch [27/100], Photo Loss: 0.0027, Smooth Loss: 0.0134, Total Loss: 0.0081\n",
      "Epoch [28/100], Photo Loss: 0.0027, Smooth Loss: 0.0128, Total Loss: 0.0078\n",
      "Epoch [29/100], Photo Loss: 0.0027, Smooth Loss: 0.0124, Total Loss: 0.0076\n",
      "Epoch [30/100], Photo Loss: 0.0027, Smooth Loss: 0.0122, Total Loss: 0.0075\n",
      "Epoch [31/100], Photo Loss: 0.0027, Smooth Loss: 0.0116, Total Loss: 0.0072\n",
      "Epoch [32/100], Photo Loss: 0.0027, Smooth Loss: 0.0115, Total Loss: 0.0071\n",
      "Epoch [33/100], Photo Loss: 0.0027, Smooth Loss: 0.0113, Total Loss: 0.0070\n",
      "Epoch [34/100], Photo Loss: 0.0027, Smooth Loss: 0.0109, Total Loss: 0.0068\n",
      "Epoch [35/100], Photo Loss: 0.0027, Smooth Loss: 0.0107, Total Loss: 0.0067\n",
      "Epoch [36/100], Photo Loss: 0.0027, Smooth Loss: 0.0105, Total Loss: 0.0066\n",
      "Epoch [37/100], Photo Loss: 0.0027, Smooth Loss: 0.0102, Total Loss: 0.0065\n",
      "Epoch [38/100], Photo Loss: 0.0027, Smooth Loss: 0.0101, Total Loss: 0.0064\n",
      "Epoch [39/100], Photo Loss: 0.0027, Smooth Loss: 0.0099, Total Loss: 0.0063\n",
      "Epoch [40/100], Photo Loss: 0.0027, Smooth Loss: 0.0096, Total Loss: 0.0061\n",
      "Epoch [41/100], Photo Loss: 0.0027, Smooth Loss: 0.0096, Total Loss: 0.0061\n",
      "Epoch [42/100], Photo Loss: 0.0027, Smooth Loss: 0.0093, Total Loss: 0.0060\n",
      "Epoch [43/100], Photo Loss: 0.0027, Smooth Loss: 0.0093, Total Loss: 0.0060\n",
      "Epoch [44/100], Photo Loss: 0.0027, Smooth Loss: 0.0091, Total Loss: 0.0059\n",
      "Epoch [45/100], Photo Loss: 0.0027, Smooth Loss: 0.0089, Total Loss: 0.0058\n",
      "Epoch [46/100], Photo Loss: 0.0027, Smooth Loss: 0.0089, Total Loss: 0.0058\n",
      "Epoch [47/100], Photo Loss: 0.0027, Smooth Loss: 0.0087, Total Loss: 0.0057\n",
      "Epoch [48/100], Photo Loss: 0.0027, Smooth Loss: 0.0086, Total Loss: 0.0057\n",
      "Epoch [49/100], Photo Loss: 0.0027, Smooth Loss: 0.0085, Total Loss: 0.0056\n",
      "Epoch [50/100], Photo Loss: 0.0027, Smooth Loss: 0.0081, Total Loss: 0.0054\n",
      "Epoch [51/100], Photo Loss: 0.0027, Smooth Loss: 0.0084, Total Loss: 0.0056\n",
      "Epoch [52/100], Photo Loss: 0.0027, Smooth Loss: 0.0083, Total Loss: 0.0055\n",
      "Epoch [53/100], Photo Loss: 0.0027, Smooth Loss: 0.0080, Total Loss: 0.0053\n",
      "Epoch [54/100], Photo Loss: 0.0027, Smooth Loss: 0.0081, Total Loss: 0.0054\n",
      "Epoch [55/100], Photo Loss: 0.0027, Smooth Loss: 0.0078, Total Loss: 0.0053\n",
      "Epoch [56/100], Photo Loss: 0.0027, Smooth Loss: 0.0075, Total Loss: 0.0051\n",
      "Epoch [57/100], Photo Loss: 0.0027, Smooth Loss: 0.0074, Total Loss: 0.0051\n",
      "Epoch [58/100], Photo Loss: 0.0027, Smooth Loss: 0.0074, Total Loss: 0.0051\n",
      "Epoch [59/100], Photo Loss: 0.0027, Smooth Loss: 0.0074, Total Loss: 0.0050\n",
      "Epoch [60/100], Photo Loss: 0.0027, Smooth Loss: 0.0072, Total Loss: 0.0050\n",
      "Epoch [61/100], Photo Loss: 0.0027, Smooth Loss: 0.0069, Total Loss: 0.0048\n",
      "Epoch [62/100], Photo Loss: 0.0027, Smooth Loss: 0.0071, Total Loss: 0.0049\n",
      "Epoch [63/100], Photo Loss: 0.0027, Smooth Loss: 0.0070, Total Loss: 0.0048\n",
      "Epoch [64/100], Photo Loss: 0.0027, Smooth Loss: 0.0069, Total Loss: 0.0048\n",
      "Epoch [65/100], Photo Loss: 0.0027, Smooth Loss: 0.0069, Total Loss: 0.0048\n",
      "Epoch [66/100], Photo Loss: 0.0027, Smooth Loss: 0.0065, Total Loss: 0.0046\n",
      "Epoch [67/100], Photo Loss: 0.0027, Smooth Loss: 0.0066, Total Loss: 0.0047\n",
      "Epoch [68/100], Photo Loss: 0.0027, Smooth Loss: 0.0064, Total Loss: 0.0046\n",
      "Epoch [69/100], Photo Loss: 0.0027, Smooth Loss: 0.0064, Total Loss: 0.0046\n",
      "Epoch [70/100], Photo Loss: 0.0027, Smooth Loss: 0.0063, Total Loss: 0.0045\n",
      "Epoch [71/100], Photo Loss: 0.0027, Smooth Loss: 0.0063, Total Loss: 0.0045\n",
      "Epoch [72/100], Photo Loss: 0.0027, Smooth Loss: 0.0062, Total Loss: 0.0045\n",
      "Epoch [73/100], Photo Loss: 0.0027, Smooth Loss: 0.0062, Total Loss: 0.0045\n",
      "Epoch [74/100], Photo Loss: 0.0027, Smooth Loss: 0.0062, Total Loss: 0.0045\n",
      "Epoch [75/100], Photo Loss: 0.0027, Smooth Loss: 0.0063, Total Loss: 0.0045\n",
      "Epoch [76/100], Photo Loss: 0.0027, Smooth Loss: 0.0061, Total Loss: 0.0044\n",
      "Epoch [77/100], Photo Loss: 0.0027, Smooth Loss: 0.0062, Total Loss: 0.0045\n",
      "Epoch [78/100], Photo Loss: 0.0027, Smooth Loss: 0.0063, Total Loss: 0.0045\n",
      "Epoch [79/100], Photo Loss: 0.0027, Smooth Loss: 0.0060, Total Loss: 0.0044\n",
      "Epoch [80/100], Photo Loss: 0.0027, Smooth Loss: 0.0059, Total Loss: 0.0043\n",
      "Epoch [81/100], Photo Loss: 0.0027, Smooth Loss: 0.0058, Total Loss: 0.0043\n",
      "Epoch [82/100], Photo Loss: 0.0027, Smooth Loss: 0.0058, Total Loss: 0.0043\n",
      "Epoch [83/100], Photo Loss: 0.0027, Smooth Loss: 0.0056, Total Loss: 0.0042\n",
      "Epoch [84/100], Photo Loss: 0.0027, Smooth Loss: 0.0056, Total Loss: 0.0042\n",
      "Epoch [85/100], Photo Loss: 0.0027, Smooth Loss: 0.0056, Total Loss: 0.0041\n",
      "Epoch [86/100], Photo Loss: 0.0027, Smooth Loss: 0.0055, Total Loss: 0.0041\n",
      "Epoch [87/100], Photo Loss: 0.0027, Smooth Loss: 0.0054, Total Loss: 0.0041\n",
      "Epoch [88/100], Photo Loss: 0.0027, Smooth Loss: 0.0055, Total Loss: 0.0041\n",
      "Epoch [89/100], Photo Loss: 0.0027, Smooth Loss: 0.0053, Total Loss: 0.0040\n",
      "Epoch [90/100], Photo Loss: 0.0027, Smooth Loss: 0.0053, Total Loss: 0.0040\n",
      "Epoch [91/100], Photo Loss: 0.0027, Smooth Loss: 0.0052, Total Loss: 0.0040\n",
      "Epoch [92/100], Photo Loss: 0.0027, Smooth Loss: 0.0052, Total Loss: 0.0040\n",
      "Epoch [93/100], Photo Loss: 0.0027, Smooth Loss: 0.0053, Total Loss: 0.0040\n",
      "Epoch [94/100], Photo Loss: 0.0027, Smooth Loss: 0.0051, Total Loss: 0.0039\n",
      "Epoch [95/100], Photo Loss: 0.0027, Smooth Loss: 0.0052, Total Loss: 0.0039\n",
      "Epoch [96/100], Photo Loss: 0.0027, Smooth Loss: 0.0051, Total Loss: 0.0039\n",
      "Epoch [97/100], Photo Loss: 0.0027, Smooth Loss: 0.0050, Total Loss: 0.0039\n",
      "Epoch [98/100], Photo Loss: 0.0027, Smooth Loss: 0.0051, Total Loss: 0.0039\n",
      "Epoch [99/100], Photo Loss: 0.0027, Smooth Loss: 0.0049, Total Loss: 0.0038\n",
      "Epoch [100/100], Photo Loss: 0.0027, Smooth Loss: 0.0050, Total Loss: 0.0038\n"
     ]
    }
   ],
   "source": [
    "train(100)"
   ]
  },
  {
   "cell_type": "code",
   "execution_count": 34,
   "metadata": {},
   "outputs": [],
   "source": [
    "dr = d_refined.detach().cpu().numpy()"
   ]
  },
  {
   "cell_type": "code",
   "execution_count": 35,
   "metadata": {},
   "outputs": [
    {
     "data": {
      "text/plain": [
       "(1, 1, 480, 640)"
      ]
     },
     "execution_count": 35,
     "metadata": {},
     "output_type": "execute_result"
    }
   ],
   "source": [
    "dr.shape"
   ]
  },
  {
   "cell_type": "code",
   "execution_count": 36,
   "metadata": {},
   "outputs": [
    {
     "data": {
      "image/png": "[encoded data removed]",
      "text/plain": [
       "<Figure size 640x480 with 1 Axes>"
      ]
     },
     "metadata": {},
     "output_type": "display_data"
    }
   ],
   "source": [
    "plt.figure()\n",
    "plt.imshow(dr[0,0,:,:], cmap='magma')\n",
    "plt.show()"
   ]
  },
  {
   "cell_type": "code",
   "execution_count": 18,
   "metadata": {},
   "outputs": [],
   "source": [
    "from torch.utils.data import Dataset, DataLoader\n",
    "from torchvision import transforms\n",
    "import ast\n",
    "import re\n",
    "\n",
    "\n",
    "IMAGENET_MEAN = [0.485, 0.456, 0.406]\n",
    "IMAGENET_STD = [0.229, 0.224, 0.225]"
   ]
  },
  {
   "cell_type": "code",
   "execution_count": 20,
   "metadata": {},
   "outputs": [],
   "source": [
    "class Middlebury2014(Dataset):\n",
    "    def __init__(self, data_list_path):\n",
    "        with open(data_list_path, \"r\") as f:\n",
    "            self.data_list = [line.rstrip() for line in f.readlines()]\n",
    "        self.l_name = \"im0.png\"\n",
    "        self.r_name = \"im1.png\"\n",
    "        self.l_disp_name = \"disp0.pfm\"\n",
    "        self.r_disp_name = \"disp1.pfm\"\n",
    "        self.calib_name = \"calib.txt\"\n",
    "\n",
    "        self.int_re = re.compile(r\"^-?\\d+$\")\n",
    "        self.float_re = re.compile(r\"^-?\\d+\\.\\d+$\")\n",
    "\n",
    "        transform_list = [\n",
    "            transforms.ToTensor(),\n",
    "            transforms.Normalize(mean=IMAGENET_MEAN, std=IMAGENET_STD),\n",
    "            transforms.RandAugment(),\n",
    "        ]\n",
    "        self.transform = transforms.Compose(transform_list)\n",
    "\n",
    "    def parse_cam_matrix(self, matrix_str):\n",
    "        # Remove enclosing brackets\n",
    "        matrix_str = matrix_str.strip(\"[]\")\n",
    "        # Split rows on ';'\n",
    "        rows = matrix_str.split(\";\")\n",
    "        # Split each row into individual numbers and convert to float\n",
    "        matrix = []\n",
    "        for row in rows:\n",
    "            row_vals = [float(x) for x in row.strip().split() if x]\n",
    "            matrix.append(row_vals)\n",
    "        return np.array(matrix, dtype=np.float32)\n",
    "\n",
    "    def parse_calib(self, calib_path):\n",
    "        with open(calib_path, \"r\") as f:\n",
    "            data_str = [line.rstrip() for line in f.readlines()]\n",
    "        data_list = ast.literal_eval(data_str)\n",
    "        calib_dict = {}\n",
    "        for item in data_list:\n",
    "            key, val = item.split(\"=\", maxsplit=1)\n",
    "            if key.startswith(\"cam\"):\n",
    "                calib_dict[key] = self.parse_cam_matrix(val)\n",
    "            else:\n",
    "                if self.int_re.match(val):\n",
    "                    parsed_val = int(val)\n",
    "                elif self.float_re.match(val):\n",
    "                    parsed_val = float(val)\n",
    "                else:\n",
    "                    parsed_val = val  # Keep as string if it doesn't match int or float\n",
    "\n",
    "                calib_dict[key] = parsed_val\n",
    "        return calib_dict\n",
    "\n",
    "    def __len__(self):\n",
    "        return len(self.data_list)\n",
    "\n",
    "    def __getitem__(self, index):\n",
    "        scene_dir = self.data_list[index]\n",
    "        left_img_path = os.path.join(scene_dir, self.l_name)\n",
    "        right_img_path = os.path.join(scene_dir, self.r_name)\n",
    "        l_disp_path = os.path.join(scene_dir, self.l_disp_name)\n",
    "        r_disp_path = os.path.join(scene_dir, self.r_disp_name)\n",
    "        calib_path = os.path.join(scene_dir, self.calib_name)\n",
    "\n",
    "        l_img = cv2.imread(left_img_path, cv2.IMREAD_ANYCOLOR)[:, :, ::-1]\n",
    "        r_img = cv2.imread(right_img_path, cv2.IMREAD_ANYCOLOR)[:, :, ::-1]\n",
    "        l_disp = read_pfm(l_disp_path)\n",
    "        r_disp = read_pfm(r_disp_path)\n",
    "        calib_data = self.parse_calib(calib_path)\n",
    "\n",
    "        if self.transform:\n",
    "            # Convert images to PIL format for compatibility with transforms\n",
    "            l_img_pil = transforms.ToPILImage()(l_img)\n",
    "            r_img_pil = transforms.ToPILImage()(r_img)\n",
    "\n",
    "            # Apply the same transformation to both images\n",
    "            l_img_transformed = self.transform(l_img_pil)\n",
    "            r_img_transformed = self.transform(r_img_pil)\n",
    "        else:\n",
    "            # If no transform is provided, convert to tensors manually\n",
    "            l_img_transformed = torch.from_numpy(l_img).permute(2, 0, 1).float() / 255.0\n",
    "            r_img_transformed = torch.from_numpy(r_img).permute(2, 0, 1).float() / 255.0\n",
    "\n",
    "        l_disp_tensor = (\n",
    "            torch.from_numpy(l_disp).unsqueeze(0).float()\n",
    "        )  # Shape: [1, H, W]\n",
    "        r_disp_tensor = (\n",
    "            torch.from_numpy(r_disp).unsqueeze(0).float()\n",
    "        )  # Shape: [1, H, W]\n",
    "\n",
    "        sample = {\n",
    "            \"left_image\": l_img_transformed,  # Tensor shape: [3, H, W]\n",
    "            \"right_image\": r_img_transformed,  # Tensor shape: [3, H, W]\n",
    "            \"left_disp\": l_disp_tensor,  # Tensor shape: [1, H, W]\n",
    "            \"right_disp\": r_disp_tensor,  # Tensor shape: [1, H, W]\n",
    "            \"calib_data\": calib_data, # dict\n",
    "        }\n",
    "\n",
    "        return sample"
   ]
  },
  {
   "cell_type": "code",
   "execution_count": 12,
   "metadata": {},
   "outputs": [],
   "source": [
    "data_list_path = \"/home/william/extdisk/data/middlebury/middlebury2014/middlebury2014_dataset.txt\"\n",
    "with open(data_list_path, 'r') as f:\n",
    "    data_list = [line.strip() for line in f.readlines()]\n",
    "    "
   ]
  },
  {
   "cell_type": "code",
   "execution_count": 13,
   "metadata": {},
   "outputs": [
    {
     "data": {
      "text/plain": [
       "['/home/william/extdisk/data/middlebury/middlebury2014/Umbrella-perfect',\n",
       " '/home/william/extdisk/data/middlebury/middlebury2014/Sword1-perfect',\n",
       " '/home/william/extdisk/data/middlebury/middlebury2014/Bicycle1-perfect',\n",
       " '/home/william/extdisk/data/middlebury/middlebury2014/Classroom1-perfect',\n",
       " '/home/william/extdisk/data/middlebury/middlebury2014/Couch-perfect',\n",
       " '/home/william/extdisk/data/middlebury/middlebury2014/Backpack-perfect',\n",
       " '/home/william/extdisk/data/middlebury/middlebury2014/Sticks-perfect',\n",
       " '/home/william/extdisk/data/middlebury/middlebury2014/Playtable-perfect',\n",
       " '/home/william/extdisk/data/middlebury/middlebury2014/Playroom-perfect',\n",
       " '/home/william/extdisk/data/middlebury/middlebury2014/Mask-perfect',\n",
       " '/home/william/extdisk/data/middlebury/middlebury2014/Storage-perfect',\n",
       " '/home/william/extdisk/data/middlebury/middlebury2014/Adirondack-perfect',\n",
       " '/home/william/extdisk/data/middlebury/middlebury2014/Shelves-perfect',\n",
       " '/home/william/extdisk/data/middlebury/middlebury2014/Recycle-perfect',\n",
       " '/home/william/extdisk/data/middlebury/middlebury2014/Piano-perfect',\n",
       " '/home/william/extdisk/data/middlebury/middlebury2014/Sword2-perfect',\n",
       " '/home/william/extdisk/data/middlebury/middlebury2014/Flowers-perfect',\n",
       " '/home/william/extdisk/data/middlebury/middlebury2014/Shopvac-perfect',\n",
       " '/home/william/extdisk/data/middlebury/middlebury2014/Motorcycle-perfect',\n",
       " '/home/william/extdisk/data/middlebury/middlebury2014/Vintage-perfect',\n",
       " '/home/william/extdisk/data/middlebury/middlebury2014/Jadeplant-perfect',\n",
       " '/home/william/extdisk/data/middlebury/middlebury2014/Cable-perfect',\n",
       " '/home/william/extdisk/data/middlebury/middlebury2014/Pipes-perfect']"
      ]
     },
     "execution_count": 13,
     "metadata": {},
     "output_type": "execute_result"
    }
   ],
   "source": [
    "data_list"
   ]
  },
  {
   "cell_type": "code",
   "execution_count": 14,
   "metadata": {},
   "outputs": [],
   "source": [
    "with open('/home/william/extdisk/data/middlebury/middlebury2014/Umbrella-perfect/calib.txt', 'r') as f:\n",
    "    calib = [line.rstrip() for line in f.readlines()]"
   ]
  },
  {
   "cell_type": "code",
   "execution_count": 15,
   "metadata": {},
   "outputs": [
    {
     "data": {
      "text/plain": [
       "['cam0=[5806.559 0 1429.219; 0 5806.559 993.403; 0 0 1]',\n",
       " 'cam1=[5806.559 0 1543.51; 0 5806.559 993.403; 0 0 1]',\n",
       " 'doffs=114.291',\n",
       " 'baseline=174.019',\n",
       " 'width=2960',\n",
       " 'height=2016',\n",
       " 'ndisp=250',\n",
       " 'isint=0',\n",
       " 'vmin=38',\n",
       " 'vmax=222',\n",
       " 'dyavg=0',\n",
       " 'dymax=0']"
      ]
     },
     "execution_count": 15,
     "metadata": {},
     "output_type": "execute_result"
    }
   ],
   "source": [
    "calib"
   ]
  },
  {
   "cell_type": "code",
   "execution_count": 16,
   "metadata": {},
   "outputs": [
    {
     "name": "stdout",
     "output_type": "stream",
     "text": [
      "{'cam0': '[5806.559 0 1429.219; 0 5806.559 993.403; 0 0 1]', 'cam1': '[5806.559 0 1543.51; 0 5806.559 993.403; 0 0 1]', 'doffs': 114.291, 'baseline': 174.019, 'width': 2960, 'height': 2016, 'ndisp': 250, 'isint': 0, 'vmin': 38, 'vmax': 222, 'dyavg': 0, 'dymax': 0}\n"
     ]
    }
   ],
   "source": [
    "import ast\n",
    "\n",
    "data_str = \"['cam0=[5806.559 0 1429.219; 0 5806.559 993.403; 0 0 1]', 'cam1=[5806.559 0 1543.51; 0 5806.559 993.403; 0 0 1]', 'doffs=114.291', 'baseline=174.019', 'width=2960', 'height=2016', 'ndisp=250', 'isint=0', 'vmin=38', 'vmax=222', 'dyavg=0', 'dymax=0']\"\n",
    "\n",
    "# Safely parse the string into a Python list\n",
    "data_list = ast.literal_eval(data_str)\n",
    "\n",
    "result = {}\n",
    "\n",
    "for item in data_list:\n",
    "    # Each item looks like \"key=value\"\n",
    "    key, val = item.split('=', maxsplit=1)\n",
    "    \n",
    "    # If it's one of the camera matrices, keep it as a string for now\n",
    "    if key.startswith(\"cam\"):\n",
    "        # e.g. \"cam0=[5806.559 0 1429.219; 0 5806.559 993.403; 0 0 1]\"\n",
    "        # We'll just store the bracketed content as-is\n",
    "        # If you want to parse it into a numeric matrix, see the next example.\n",
    "        result[key] = val  \n",
    "    else:\n",
    "        # Otherwise, try to convert to int or float if possible\n",
    "        try:\n",
    "            # First try integer\n",
    "            parsed_val = int(val)\n",
    "        except ValueError:\n",
    "            # If that fails, try float\n",
    "            try:\n",
    "                parsed_val = float(val)\n",
    "            except ValueError:\n",
    "                # Otherwise, just keep as string\n",
    "                parsed_val = val\n",
    "        \n",
    "        result[key] = parsed_val\n",
    "\n",
    "print(result)"
   ]
  },
  {
   "cell_type": "code",
   "execution_count": 21,
   "metadata": {},
   "outputs": [],
   "source": [
    "m2014 = Middlebury2014(data_list_path=\"/home/william/extdisk/data/middlebury/middlebury2014/middlebury2014_dataset.txt\")\n",
    "m2014_dataloader = DataLoader(dataset=m2014, batch_size=4, shuffle=True, num_workers=4, pin_memory=True)"
   ]
  },
  {
   "cell_type": "code",
   "execution_count": null,
   "metadata": {},
   "outputs": [],
   "source": []
  }
 ],
 "metadata": {
  "kernelspec": {
   "display_name": "torch2.3.1_cu12.1",
   "language": "python",
   "name": "python3"
  },
  "language_info": {
   "codemirror_mode": {
    "name": "ipython",
    "version": 3
   },
   "file_extension": ".py",
   "mimetype": "text/x-python",
   "name": "python",
   "nbconvert_exporter": "python",
   "pygments_lexer": "ipython3",
   "version": "3.11.9"
  }
 },
 "nbformat": 4,
 "nbformat_minor": 2
}
